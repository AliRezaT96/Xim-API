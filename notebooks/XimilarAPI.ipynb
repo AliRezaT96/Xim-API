# we recommend to install ximilar-client to new virtualenv
pip install ximilar-clien
