{
 "cells": [
  {
   "cell_type": "markdown",
   "id": "978416ee",
   "metadata": {},
   "source": [
    "### Installation"
   ]
  },
  {
   "cell_type": "code",
   "execution_count": 2,
   "id": "5f1ac9f8",
   "metadata": {},
   "outputs": [
    {
     "name": "stdout",
     "output_type": "stream",
     "text": [
      "Note: you may need to restart the kernel to use updated packages.Looking in indexes: https://pypi.org/simple, https://pypi.ngc.nvidia.com\n",
      "Requirement already satisfied: ximilar-client in c:\\users\\zahra\\appdata\\roaming\\python\\python38\\site-packages (1.21.8)\n",
      "Requirement already satisfied: pytest>=3.0.3 in c:\\programdata\\anaconda3\\lib\\site-packages (from ximilar-client) (6.2.3)\n",
      "Requirement already satisfied: requests==2.21.0 in c:\\users\\zahra\\appdata\\roaming\\python\\python38\\site-packages (from ximilar-client) (2.21.0)\n",
      "\n"
     ]
    },
    {
     "name": "stderr",
     "output_type": "stream",
     "text": [
      "  WARNING: The script tqdm.exe is installed in 'C:\\Users\\Zahra\\AppData\\Roaming\\Python\\Python38\\Scripts' which is not on PATH.\n",
      "  Consider adding this directory to PATH or, if you prefer to suppress this warning, use --no-warn-script-location.\n",
      "ERROR: pip's dependency resolver does not currently take into account all the packages that are installed. This behaviour is the source of the following dependency conflicts.\n",
      "dadmatools 1.5.0 requires Deprecated==1.2.6, which is not installed.\n",
      "dadmatools 1.5.0 requires fasttext==0.9.2, which is not installed.\n",
      "spacy 3.0.0 requires tqdm<5.0.0,>=4.38.0, but you have tqdm 4.31.1 which is incompatible.\n",
      "datasets 2.4.0 requires huggingface-hub<1.0.0,>=0.1.0, but you have huggingface-hub 0.0.12 which is incompatible.\n",
      "datasets 2.4.0 requires tqdm>=4.62.1, but you have tqdm 4.31.1 which is incompatible.\n",
      "pytorch-lightning 1.7.2 requires tqdm>=4.57.0, but you have tqdm 4.31.1 which is incompatible.\n",
      "dadmatools 1.5.0 requires gdown==4.3.1, but you have gdown 3.10.1 which is incompatible.\n",
      "dadmatools 1.5.0 requires supar==1.1.2, but you have supar 1.1.4 which is incompatible.\n"
     ]
    },
    {
     "name": "stdout",
     "output_type": "stream",
     "text": [
      "Collecting tqdm==4.31.1\n",
      "  Downloading tqdm-4.31.1-py2.py3-none-any.whl (48 kB)\n",
      "Requirement already satisfied: opencv-contrib-python-headless==4.5.3.56 in c:\\users\\zahra\\appdata\\roaming\\python\\python38\\site-packages (from ximilar-client) (4.5.3.56)\n",
      "Requirement already satisfied: numpy>=1.17.3 in c:\\programdata\\anaconda3\\lib\\site-packages (from opencv-contrib-python-headless==4.5.3.56->ximilar-client) (1.20.1)\n",
      "Requirement already satisfied: certifi>=2017.4.17 in c:\\programdata\\anaconda3\\lib\\site-packages (from requests==2.21.0->ximilar-client) (2020.12.5)\n",
      "Requirement already satisfied: urllib3<1.25,>=1.21.1 in c:\\users\\zahra\\appdata\\roaming\\python\\python38\\site-packages (from requests==2.21.0->ximilar-client) (1.24.3)\n",
      "Requirement already satisfied: chardet<3.1.0,>=3.0.2 in c:\\users\\zahra\\appdata\\roaming\\python\\python38\\site-packages (from requests==2.21.0->ximilar-client) (3.0.4)\n",
      "Requirement already satisfied: idna<2.9,>=2.5 in c:\\users\\zahra\\appdata\\roaming\\python\\python38\\site-packages (from requests==2.21.0->ximilar-client) (2.8)\n",
      "Requirement already satisfied: attrs>=19.2.0 in c:\\programdata\\anaconda3\\lib\\site-packages (from pytest>=3.0.3->ximilar-client) (20.3.0)\n",
      "Requirement already satisfied: iniconfig in c:\\programdata\\anaconda3\\lib\\site-packages (from pytest>=3.0.3->ximilar-client) (1.1.1)\n",
      "Requirement already satisfied: packaging in c:\\programdata\\anaconda3\\lib\\site-packages (from pytest>=3.0.3->ximilar-client) (20.9)\n",
      "Requirement already satisfied: pluggy<1.0.0a1,>=0.12 in c:\\programdata\\anaconda3\\lib\\site-packages (from pytest>=3.0.3->ximilar-client) (0.13.1)\n",
      "Requirement already satisfied: py>=1.8.2 in c:\\programdata\\anaconda3\\lib\\site-packages (from pytest>=3.0.3->ximilar-client) (1.10.0)\n",
      "Requirement already satisfied: toml in c:\\programdata\\anaconda3\\lib\\site-packages (from pytest>=3.0.3->ximilar-client) (0.10.2)\n",
      "Requirement already satisfied: atomicwrites>=1.0 in c:\\programdata\\anaconda3\\lib\\site-packages (from pytest>=3.0.3->ximilar-client) (1.4.0)\n",
      "Requirement already satisfied: colorama in c:\\programdata\\anaconda3\\lib\\site-packages (from pytest>=3.0.3->ximilar-client) (0.4.4)\n",
      "Requirement already satisfied: pyparsing>=2.0.2 in c:\\programdata\\anaconda3\\lib\\site-packages (from packaging->pytest>=3.0.3->ximilar-client) (2.4.7)\n",
      "Installing collected packages: tqdm\n",
      "  Attempting uninstall: tqdm\n",
      "    Found existing installation: tqdm 4.64.1\n",
      "    Uninstalling tqdm-4.64.1:\n",
      "      Successfully uninstalled tqdm-4.64.1\n",
      "Successfully installed tqdm-4.31.1\n"
     ]
    }
   ],
   "source": [
    "pip install --user ximilar-client"
   ]
  },
  {
   "cell_type": "markdown",
   "id": "5eb51bb6",
   "metadata": {},
   "source": [
    "Login"
   ]
  },
  {
   "cell_type": "code",
   "execution_count": 3,
   "id": "d0dd2599",
   "metadata": {},
   "outputs": [],
   "source": [
    "from ximilar.client import RecognitionClient, DetectionClient\n",
    "from ximilar.client import DominantColorProductClient, DominantColorGenericClient\n",
    "from ximilar.client import FashionTaggingClient, GenericTaggingClient\n",
    "\n",
    "API_TOKEN = \"11280ad6fe095efb3066c80a9400631bdbce06a7\"\n",
    "app_client = RecognitionClient(token= API_TOKEN)\n",
    "detect_client = DetectionClient(token=API_TOKEN)"
   ]
  },
  {
   "cell_type": "code",
   "execution_count": null,
   "id": "d9c1084e",
   "metadata": {},
   "outputs": [],
   "source": []
  },
  {
   "cell_type": "code",
   "execution_count": null,
   "id": "741e0056",
   "metadata": {},
   "outputs": [],
   "source": []
  }
 ],
 "metadata": {
  "kernelspec": {
   "display_name": "Python 3",
   "language": "python",
   "name": "python3"
  },
  "language_info": {
   "codemirror_mode": {
    "name": "ipython",
    "version": 3
   },
   "file_extension": ".py",
   "mimetype": "text/x-python",
   "name": "python",
   "nbconvert_exporter": "python",
   "pygments_lexer": "ipython3",
   "version": "3.8.8"
  }
 },
 "nbformat": 4,
 "nbformat_minor": 5
}
